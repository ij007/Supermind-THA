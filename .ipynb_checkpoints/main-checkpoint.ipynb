{
 "cells": [
  {
   "cell_type": "code",
   "execution_count": 1,
   "id": "69d44490",
   "metadata": {},
   "outputs": [],
   "source": [
    "import numpy as np\n",
    "import pandas as pd "
   ]
  },
  {
   "cell_type": "code",
   "execution_count": 32,
   "id": "8a56044c",
   "metadata": {},
   "outputs": [
    {
     "data": {
      "text/html": [
       "<div>\n",
       "<style scoped>\n",
       "    .dataframe tbody tr th:only-of-type {\n",
       "        vertical-align: middle;\n",
       "    }\n",
       "\n",
       "    .dataframe tbody tr th {\n",
       "        vertical-align: top;\n",
       "    }\n",
       "\n",
       "    .dataframe thead th {\n",
       "        text-align: right;\n",
       "    }\n",
       "</style>\n",
       "<table border=\"1\" class=\"dataframe\">\n",
       "  <thead>\n",
       "    <tr style=\"text-align: right;\">\n",
       "      <th></th>\n",
       "      <th>terms</th>\n",
       "      <th>abbreviations</th>\n",
       "    </tr>\n",
       "  </thead>\n",
       "  <tbody>\n",
       "    <tr>\n",
       "      <th>0</th>\n",
       "      <td>Auroracoin</td>\n",
       "      <td>AUR</td>\n",
       "    </tr>\n",
       "    <tr>\n",
       "      <th>1</th>\n",
       "      <td>BitConnect (inactive)</td>\n",
       "      <td>BCC</td>\n",
       "    </tr>\n",
       "    <tr>\n",
       "      <th>2</th>\n",
       "      <td>Bitcoin Cash</td>\n",
       "      <td>BCH</td>\n",
       "    </tr>\n",
       "    <tr>\n",
       "      <th>3</th>\n",
       "      <td>Bitcoin</td>\n",
       "      <td>BTCorXBT</td>\n",
       "    </tr>\n",
       "    <tr>\n",
       "      <th>4</th>\n",
       "      <td>Dash</td>\n",
       "      <td>DASH</td>\n",
       "    </tr>\n",
       "  </tbody>\n",
       "</table>\n",
       "</div>"
      ],
      "text/plain": [
       "                   terms abbreviations\n",
       "0             Auroracoin           AUR\n",
       "1  BitConnect (inactive)           BCC\n",
       "2           Bitcoin Cash           BCH\n",
       "3                Bitcoin      BTCorXBT\n",
       "4                   Dash          DASH"
      ]
     },
     "execution_count": 32,
     "metadata": {},
     "output_type": "execute_result"
    }
   ],
   "source": [
    "abbv_df = pd.read_csv('term_abb.csv')\n",
    "abbv_df.head()"
   ]
  },
  {
   "cell_type": "code",
   "execution_count": 13,
   "id": "88e65f7b",
   "metadata": {},
   "outputs": [
    {
     "data": {
      "text/html": [
       "<div>\n",
       "<style scoped>\n",
       "    .dataframe tbody tr th:only-of-type {\n",
       "        vertical-align: middle;\n",
       "    }\n",
       "\n",
       "    .dataframe tbody tr th {\n",
       "        vertical-align: top;\n",
       "    }\n",
       "\n",
       "    .dataframe thead th {\n",
       "        text-align: right;\n",
       "    }\n",
       "</style>\n",
       "<table border=\"1\" class=\"dataframe\">\n",
       "  <thead>\n",
       "    <tr style=\"text-align: right;\">\n",
       "      <th></th>\n",
       "      <th>terms</th>\n",
       "      <th>definition1</th>\n",
       "      <th>definition2</th>\n",
       "    </tr>\n",
       "  </thead>\n",
       "  <tbody>\n",
       "    <tr>\n",
       "      <th>0</th>\n",
       "      <td>51% attack</td>\n",
       "      <td>A hypothetical situation where more than half ...</td>\n",
       "      <td>NaN</td>\n",
       "    </tr>\n",
       "    <tr>\n",
       "      <th>1</th>\n",
       "      <td>51% attack protection</td>\n",
       "      <td>A protection mechanism implemented by several ...</td>\n",
       "      <td>NaN</td>\n",
       "    </tr>\n",
       "    <tr>\n",
       "      <th>2</th>\n",
       "      <td>AFK</td>\n",
       "      <td>Away From Keyboard; used on social media platf...</td>\n",
       "      <td>NaN</td>\n",
       "    </tr>\n",
       "    <tr>\n",
       "      <th>3</th>\n",
       "      <td>Airdrop</td>\n",
       "      <td>An event where a blockchain project distribute...</td>\n",
       "      <td>NaN</td>\n",
       "    </tr>\n",
       "    <tr>\n",
       "      <th>4</th>\n",
       "      <td>Altcoin</td>\n",
       "      <td>Any cryptocurrency that is an alternative to B...</td>\n",
       "      <td>NaN</td>\n",
       "    </tr>\n",
       "  </tbody>\n",
       "</table>\n",
       "</div>"
      ],
      "text/plain": [
       "                   terms                                        definition1  \\\n",
       "0             51% attack  A hypothetical situation where more than half ...   \n",
       "1  51% attack protection  A protection mechanism implemented by several ...   \n",
       "2                    AFK  Away From Keyboard; used on social media platf...   \n",
       "3                Airdrop  An event where a blockchain project distribute...   \n",
       "4                Altcoin  Any cryptocurrency that is an alternative to B...   \n",
       "\n",
       "  definition2  \n",
       "0         NaN  \n",
       "1         NaN  \n",
       "2         NaN  \n",
       "3         NaN  \n",
       "4         NaN  "
      ]
     },
     "execution_count": 13,
     "metadata": {},
     "output_type": "execute_result"
    }
   ],
   "source": [
    "def_df = pd.read_csv('term_def.csv')\n",
    "def_df.head()"
   ]
  },
  {
   "cell_type": "code",
   "execution_count": 17,
   "id": "1ba0b6e7",
   "metadata": {},
   "outputs": [],
   "source": [
    "def_df.drop('definition2', axis=1, inplace = True)"
   ]
  },
  {
   "cell_type": "code",
   "execution_count": 24,
   "id": "f142c9dc",
   "metadata": {},
   "outputs": [],
   "source": [
    "sentences = [' means '.join([def_df['terms'][i], def_df['definition1'][i]]) for i in range(len(def_df))]"
   ]
  },
  {
   "cell_type": "code",
   "execution_count": 33,
   "id": "9615719b",
   "metadata": {},
   "outputs": [],
   "source": [
    "sentences += [' '.join([abbv_df['terms'][i], abbv_df['abbreviations'][i]]) for i in range(len(abbv_df))]"
   ]
  },
  {
   "cell_type": "code",
   "execution_count": 28,
   "id": "829d6929",
   "metadata": {},
   "outputs": [
    {
     "name": "stdout",
     "output_type": "stream",
     "text": [
      "showing info https://raw.githubusercontent.com/nltk/nltk_data/gh-pages/index.xml\n"
     ]
    }
   ],
   "source": [
    "import re\n",
    "import nltk.data\n",
    "from nltk.corpus import stopwords\n",
    "nltk.download()   \n",
    "\n",
    "tokenizer = nltk.data.load('tokenizers/punkt/english.pickle')\n",
    "\n",
    "def words_preprocess(sentence):\n",
    "    \n",
    "    sentence_word = re.sub(\"[^a-zA-Z]\",\" \", sentence)\n",
    "    words = sentence_word.lower().split()\n",
    "    \n",
    "    stops = set(stopwords.words(\"english\"))\n",
    "    words = [w for w in words if not w in stops]\n",
    "    \n",
    "    return words\n",
    "\n",
    "def sentence_preprocess(statements, tokenizer):\n",
    "    \n",
    "    raw_sentences = tokenizer.tokenize(statements.strip())\n",
    "    sentences = []\n",
    "    \n",
    "    for raw_sentence in raw_sentences:\n",
    "        \n",
    "        if len(raw_sentence)>0:\n",
    "            sentences.append(words_preprocess(raw_sentence))\n",
    "            \n",
    "    return sentences\n",
    "    "
   ]
  },
  {
   "cell_type": "code",
   "execution_count": 36,
   "id": "02bb2f9a",
   "metadata": {},
   "outputs": [],
   "source": [
    "sentences_cleaned = []\n",
    "for s in sentences:\n",
    "    sentences_cleaned += sentence_preprocess(s, tokenizer)"
   ]
  },
  {
   "cell_type": "code",
   "execution_count": null,
   "id": "00499de8",
   "metadata": {},
   "outputs": [],
   "source": []
  }
 ],
 "metadata": {
  "kernelspec": {
   "display_name": "Python 3 (ipykernel)",
   "language": "python",
   "name": "python3"
  },
  "language_info": {
   "codemirror_mode": {
    "name": "ipython",
    "version": 3
   },
   "file_extension": ".py",
   "mimetype": "text/x-python",
   "name": "python",
   "nbconvert_exporter": "python",
   "pygments_lexer": "ipython3",
   "version": "3.8.12"
  }
 },
 "nbformat": 4,
 "nbformat_minor": 5
}
